{
  "nbformat": 4,
  "nbformat_minor": 0,
  "metadata": {
    "colab": {
      "name": "lab3.ipynb",
      "provenance": [],
      "collapsed_sections": []
    },
    "kernelspec": {
      "name": "python3",
      "display_name": "Python 3"
    }
  },
  "cells": [
    {
      "cell_type": "markdown",
      "metadata": {
        "id": "Jxrdsh_xu2Dp",
        "colab_type": "text"
      },
      "source": [
        "**CSE 5522 Lab3**"
      ]
    },
    {
      "cell_type": "markdown",
      "metadata": {
        "id": "EfEUO6HlvAa5",
        "colab_type": "text"
      },
      "source": [
        "**Author: Xuecheng Liu**"
      ]
    },
    {
      "cell_type": "markdown",
      "metadata": {
        "id": "fPQ08e7vvRE6",
        "colab_type": "text"
      },
      "source": [
        "**Part 1**"
      ]
    },
    {
      "cell_type": "markdown",
      "metadata": {
        "id": "tN9MCnvAZI_x",
        "colab_type": "text"
      },
      "source": [
        "**load the data frame**"
      ]
    },
    {
      "cell_type": "code",
      "metadata": {
        "id": "LH9p8YJtu1Ni",
        "colab_type": "code",
        "colab": {}
      },
      "source": [
        "import pandas as pd\n",
        "import numpy as np\n",
        "import random\n",
        "\n",
        "## if you want to test tbe program with different data, please go to \n",
        "## https://github.com/Xuecheng-Liu/CSE-5522-data-file to edit the corresponding csv file\n",
        "obsUrl = \"https://raw.githubusercontent.com/Xuecheng-Liu/CSE-5522-data-file/master/observationProbs.csv\"\n",
        "transUrl = \"https://raw.githubusercontent.com/Xuecheng-Liu/CSE-5522-data-file/master/transitionProbs.csv\"\n",
        "testUrl = \"https://raw.githubusercontent.com/Xuecheng-Liu/CSE-5522-data-file/master/testData.csv\"\n",
        "\n",
        "## load the data frame\n",
        "obs = pd.read_csv(obsUrl)\n",
        "trans = pd.read_csv(transUrl)\n",
        "test = pd.read_csv(testUrl)\n",
        "\n",
        "#display(obs)\n",
        "#display(trans)\n",
        "#display(test)\n"
      ],
      "execution_count": 0,
      "outputs": []
    },
    {
      "cell_type": "markdown",
      "metadata": {
        "id": "wqnrb87tY-P2",
        "colab_type": "text"
      },
      "source": [
        "**construct the probability matrix from data frame and initialize the first row in magic matric**"
      ]
    },
    {
      "cell_type": "code",
      "metadata": {
        "id": "4RLbfLjmFJTN",
        "colab_type": "code",
        "colab": {}
      },
      "source": [
        "# matrix A: Transition matrix\n",
        "transition = np.array(trans.drop(trans.columns[0],axis=1),dtype='float')\n",
        "#display(transition)\n",
        "# matrix B: Emission matrix\n",
        "emission = np.array(obs.drop(obs.columns[0],axis=1),dtype = 'float')\n",
        "#display(emission)\n",
        "\n",
        "sequence = np.array(test.drop(test.columns[0],axis=1),dtype='int')\n",
        "seq_1 = sequence[0]\n",
        "\n",
        "#display(seq_1)\n",
        "\n",
        "## pi: prior probabilities for first day to be cold and hot\n",
        "priors_start_with_C = float(transition[0][2])\n",
        "priors_start_with_H = float(transition[1][2])\n",
        "\n",
        "y1 = seq_1[0]\n",
        "B_cold = emission[y1-1][0] # eat n ice cream corresponds to n-1 row in emission matrix\n",
        "B_hot = emission[y1-1][1]\n",
        "\n",
        "## initialize the first row of the \"magic matrix\"\n",
        "M_1_cold = priors_start_with_C * B_cold\n",
        "M_1_hot = priors_start_with_H * B_hot\n",
        "#display(M_1_cold)\n",
        "#display(M_1_hot)"
      ],
      "execution_count": 0,
      "outputs": []
    },
    {
      "cell_type": "markdown",
      "metadata": {
        "id": "wrrxiVLMZk1G",
        "colab_type": "text"
      },
      "source": [
        "**go through each sequence of observations and make predictions**"
      ]
    },
    {
      "cell_type": "code",
      "metadata": {
        "id": "g11EWCsIHO0a",
        "colab_type": "code",
        "outputId": "6a2e8ae6-4591-4f3e-ea31-88cb955b69a8",
        "colab": {
          "base_uri": "https://localhost:8080/",
          "height": 364
        }
      },
      "source": [
        "pred_state=[]\n",
        "for row in range(10):\n",
        "  seq = sequence[row]\n",
        "  seq_1 = []\n",
        "  for i in seq:\n",
        "    if i !=0:\n",
        "      seq_1.append(i)\n",
        "  last_state_c = []\n",
        "  last_state_h =[]\n",
        "  \n",
        "  y1 = seq_1[0]\n",
        "  B_cold = emission[y1-1][0]\n",
        "  B_hot = emission[y1-1][1]\n",
        "  M_1_cold = priors_start_with_C * B_cold\n",
        "  M_1_hot = priors_start_with_H * B_hot\n",
        "\n",
        "  for i in range(1,len(seq_1)):\n",
        "    ob = seq_1[i] \n",
        "    c_to_c = trans_state[0][0] * emission[ob-1][0] * M_1_cold\n",
        "    h_to_c = trans_state[1][0] * emission[ob-1][0] * M_1_hot\n",
        "\n",
        "    c_to_h = trans_state[0][1] * emission[ob-1][1] * M_1_cold\n",
        "    h_to_h = trans_state[1][1] * emission[ob-1][1] * M_1_hot\n",
        "\n",
        "    C_i_c = np.argmax([trans_state[0][0] * M_1_cold,trans_state[0][1] * M_1_hot])\n",
        "    C_i_h = np.argmax([trans_state[1][0]* M_1_cold,trans_state[1][1] * M_1_hot])\n",
        "\n",
        "    last_state_c.append(C_i_c)\n",
        "    last_state_h.append(C_i_h)\n",
        "    \n",
        "    # 0 for cold and 1 for hot\n",
        "    if c_to_c > h_to_c:\n",
        "      M_1_cold = c_to_c\n",
        "    else:\n",
        "      M_1_cold = h_to_c\n",
        "    \n",
        "    if c_to_h > h_to_h:\n",
        "      M_1_hot = c_to_h\n",
        "    else:\n",
        "      M_1_hot = h_to_h\n",
        "\n",
        "  Xt = np.argmax([M_1_cold,M_1_hot])\n",
        "  result = []\n",
        "  result.append(Xt)\n",
        "  i = len(seq_1)-1\n",
        "  \n",
        "  while i > 0:\n",
        "    if Xt == 0:\n",
        "      result.append(last_state_c[i-1])\n",
        "      Xt = last_state_c[i-1]\n",
        "    else:\n",
        "      result.append(last_state_h[i-1])\n",
        "      Xt = last_state_h[i-1]\n",
        "    i = i-1\n",
        "\n",
        "  # convert the result to the weather sequence\n",
        "  print(\"Sequence \"+ str(row + 1) +\": \")\n",
        "  print(['cold' if x == 0 else 'hot' for x in result])\n",
        "  pred_state.append(result)"
      ],
      "execution_count": 62,
      "outputs": [
        {
          "output_type": "stream",
          "text": [
            "Sequence 1: \n",
            "['hot', 'hot', 'hot', 'hot', 'hot']\n",
            "Sequence 2: \n",
            "['hot', 'hot', 'hot', 'hot']\n",
            "Sequence 3: \n",
            "['cold', 'cold', 'cold', 'cold', 'cold']\n",
            "Sequence 4: \n",
            "['cold', 'cold', 'cold']\n",
            "Sequence 5: \n",
            "['cold', 'cold', 'cold', 'cold', 'cold']\n",
            "Sequence 6: \n",
            "['cold', 'cold', 'cold', 'cold']\n",
            "Sequence 7: \n",
            "['hot', 'hot', 'hot']\n",
            "Sequence 8: \n",
            "['cold', 'cold', 'hot', 'hot']\n",
            "Sequence 9: \n",
            "['hot', 'hot', 'hot', 'hot', 'cold']\n",
            "Sequence 10: \n",
            "['cold', 'cold', 'cold']\n"
          ],
          "name": "stdout"
        }
      ]
    },
    {
      "cell_type": "markdown",
      "metadata": {
        "id": "AaFO17-FHtDY",
        "colab_type": "text"
      },
      "source": [
        "**Part 2**"
      ]
    },
    {
      "cell_type": "markdown",
      "metadata": {
        "id": "YlEyc_86xXg3",
        "colab_type": "text"
      },
      "source": [
        "**normalize the transition probability**"
      ]
    },
    {
      "cell_type": "code",
      "metadata": {
        "id": "Tvv309ylHyNx",
        "colab_type": "code",
        "outputId": "1cb23296-86d9-4d2d-c65b-ad01662b00f3",
        "colab": {
          "base_uri": "https://localhost:8080/",
          "height": 52
        }
      },
      "source": [
        "norm_tran = np.array(trans.drop(trans.columns[0],axis=1),dtype=\"float\")\n",
        "n = np.delete(norm_tran,2,0)\n",
        "a = n[0][0]+n[1][0]\n",
        "n[0][0] = n[0][0]/a\n",
        "n[1][0] = 1 - n[0][0]\n",
        "b = n[0][1]+n[1][1]\n",
        "n[0][1]=n[0][1]/b\n",
        "n[1][1]=1-n[0][1]\n",
        "new_trans = n\n",
        "display(new_trans)"
      ],
      "execution_count": 64,
      "outputs": [
        {
          "output_type": "display_data",
          "data": {
            "text/plain": [
              "array([[0.92473118, 0.07526882, 0.5       ],\n",
              "       [0.07526882, 0.92473118, 0.5       ]])"
            ]
          },
          "metadata": {
            "tags": []
          }
        }
      ]
    },
    {
      "cell_type": "code",
      "metadata": {
        "id": "niCznDvcIJNU",
        "colab_type": "code",
        "outputId": "a818a0d2-e5bb-4d56-f2e8-4d2984703487",
        "colab": {
          "base_uri": "https://localhost:8080/",
          "height": 364
        }
      },
      "source": [
        "for a in range(10):\n",
        "  seq = sequence[a]\n",
        "  seq_1 = []\n",
        "  for i in seq:\n",
        "    if i !=0:\n",
        "      seq_1.append(i)\n",
        "  \n",
        "  iteration = random.randint(10,100001)\n",
        "  \n",
        "  w = 1\n",
        "  w_dict=[]\n",
        "  weight = []\n",
        "  for i in range(iteration):\n",
        "    weather_seq =[]\n",
        "    rd = random.uniform(0,1)\n",
        "    current_state = 0 \n",
        "    if rd > 0.5:\n",
        "      current_state = 1\n",
        "    event=seq_1[0]\n",
        "    w = w * emission[event-1][current_state]\n",
        "    weather_seq.append(current_state)\n",
        "\n",
        "    ## iterate from 2 to last state\n",
        "    for j in range(1,len(seq_1)):\n",
        "      rd = random.uniform(0,1)\n",
        "      next_state = 1\n",
        "      if rd <= new_trans[current_state][0]:\n",
        "        next_state = 0\n",
        "      event = seq_1[j] \n",
        "      w = w * emission[event-1][next_state]\n",
        "      current_state = next_state\n",
        "      weather_seq.append(current_state)\n",
        "    \n",
        "    \n",
        "    weight.append(w)\n",
        "    w_dict.append(weather_seq)\n",
        "  \n",
        "  p = 0\n",
        "  total = 0\n",
        "  num_obs_seq = 0\n",
        "  num = 0\n",
        "  for i in w_dict:\n",
        "    if np.array_equal(pred_state[num_obs_seq],i):\n",
        "      p += weight[num]\n",
        "    else:\n",
        "      total += weight[num]\n",
        "    num+=1\n",
        "  num_obs_seq+=1\n",
        "  \n",
        "  total+=p\n",
        "\n",
        "  print(\"Sequence \"+str(a+1)+\" with probility: \"+str(abs(w-p/total)))\n",
        "  print(['cold' if x == 0 else 'hot' for x in result])\n",
        "\n",
        "\n"
      ],
      "execution_count": 70,
      "outputs": [
        {
          "output_type": "stream",
          "text": [
            "Sequence 1 with probility: 1.1646733020579101e-20\n",
            "['cold', 'cold', 'cold']\n",
            "Sequence 2 with probility: 0.0\n",
            "['cold', 'cold', 'cold']\n",
            "Sequence 3 with probility: 1.369034516560235e-26\n",
            "['cold', 'cold', 'cold']\n",
            "Sequence 4 with probility: 0.0\n",
            "['cold', 'cold', 'cold']\n",
            "Sequence 5 with probility: 1.98984296e-12\n",
            "['cold', 'cold', 'cold']\n",
            "Sequence 6 with probility: 0.0\n",
            "['cold', 'cold', 'cold']\n",
            "Sequence 7 with probility: 0.0\n",
            "['cold', 'cold', 'cold']\n",
            "Sequence 8 with probility: 0.0\n",
            "['cold', 'cold', 'cold']\n",
            "Sequence 9 with probility: 9.77290744609022e-09\n",
            "['cold', 'cold', 'cold']\n",
            "Sequence 10 with probility: 0.0\n",
            "['cold', 'cold', 'cold']\n"
          ],
          "name": "stdout"
        }
      ]
    },
    {
      "cell_type": "markdown",
      "metadata": {
        "id": "q65LKYmu1v7G",
        "colab_type": "text"
      },
      "source": [
        "The probability of sampling each sequence is different since we are generating random iterations every time"
      ]
    }
  ]
}